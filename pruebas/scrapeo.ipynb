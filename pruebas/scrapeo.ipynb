{
 "cells": [
  {
   "cell_type": "code",
   "execution_count": 30,
   "metadata": {},
   "outputs": [
    {
     "name": "stderr",
     "output_type": "stream",
     "text": [
      "<>:10: SyntaxWarning: invalid escape sequence '\\p'\n",
      "<>:10: SyntaxWarning: invalid escape sequence '\\p'\n",
      "C:\\Users\\Computer\\AppData\\Local\\Temp\\ipykernel_10636\\1867721753.py:10: SyntaxWarning: invalid escape sequence '\\p'\n",
      "  path_base= \"e:\\proyectos django-flask\\PROYECTO_Selenium\\DEMO-DJANGO\"\n"
     ]
    },
    {
     "name": "stdout",
     "output_type": "stream",
     "text": [
      "e:\\proyectos django-flask\\PROYECTO_Selenium\\DEMO-DJANGO\\driver\\chromedriver.exe\n"
     ]
    }
   ],
   "source": [
    "from selenium import webdriver\n",
    "from selenium.webdriver.chrome.service import Service\n",
    "from selenium.webdriver.common.by import By\n",
    "from selenium.webdriver.common.keys import Keys\n",
    "\n",
    "import time\n",
    "import os\n",
    "# Set up the Chrome driver\n",
    "\n",
    "path_base= \"e:\\proyectos django-flask\\PROYECTO_Selenium\\DEMO-DJANGO\"\n",
    "path_driver = os.path.join(path_base, 'driver','chromedriver.exe')\n",
    "print(path_driver)\n",
    "service = Service(executable_path=path_driver)\n",
    "driver = webdriver.Chrome(service=service)"
   ]
  },
  {
   "cell_type": "code",
   "execution_count": 31,
   "metadata": {},
   "outputs": [],
   "source": [
    "# Almacenamos las urls a scrapear\n",
    "indeed ='https://pe.indeed.com/?from=gnav-compui'\n",
    "bumeran = 'https://www.bumeran.com.pe/empleos-busqueda-web.html'\n",
    "\n",
    "urls = [indeed, bumeran]"
   ]
  },
  {
   "cell_type": "code",
   "execution_count": 29,
   "metadata": {},
   "outputs": [
    {
     "ename": "NoSuchElementException",
     "evalue": "Message: no such element: Unable to locate element: {\"method\":\"css selector\",\"selector\":\".js-match-insights-provider-tvvxwd ecydgvn1\"}\n  (Session info: chrome=128.0.6613.84); For documentation on this error, please visit: https://www.selenium.dev/documentation/webdriver/troubleshooting/errors#no-such-element-exception\nStacktrace:\n\tGetHandleVerifier [0x00007FF72E199632+30946]\n\t(No symbol) [0x00007FF72E14E3C9]\n\t(No symbol) [0x00007FF72E046FDA]\n\t(No symbol) [0x00007FF72E09822C]\n\t(No symbol) [0x00007FF72E09850C]\n\t(No symbol) [0x00007FF72E0DDCB7]\n\t(No symbol) [0x00007FF72E0BCAAF]\n\t(No symbol) [0x00007FF72E0DB041]\n\t(No symbol) [0x00007FF72E0BC813]\n\t(No symbol) [0x00007FF72E08A6E5]\n\t(No symbol) [0x00007FF72E08B021]\n\tGetHandleVerifier [0x00007FF72E2CF83D+1301229]\n\tGetHandleVerifier [0x00007FF72E2DBDB7+1351783]\n\tGetHandleVerifier [0x00007FF72E2D2A03+1313971]\n\tGetHandleVerifier [0x00007FF72E1CDD06+245686]\n\t(No symbol) [0x00007FF72E15758F]\n\t(No symbol) [0x00007FF72E153804]\n\t(No symbol) [0x00007FF72E153992]\n\t(No symbol) [0x00007FF72E14A3EF]\n\tBaseThreadInitThunk [0x00007FFECD4F7344+20]\n\tRtlUserThreadStart [0x00007FFECE5426B1+33]\n",
     "output_type": "error",
     "traceback": [
      "\u001b[1;31m---------------------------------------------------------------------------\u001b[0m",
      "\u001b[1;31mNoSuchElementException\u001b[0m                    Traceback (most recent call last)",
      "Cell \u001b[1;32mIn[29], line 6\u001b[0m\n\u001b[0;32m      3\u001b[0m text_input \u001b[38;5;241m=\u001b[39m \u001b[38;5;124m\"\u001b[39m\u001b[38;5;124mdesarrollador python\u001b[39m\u001b[38;5;124m\"\u001b[39m\n\u001b[0;32m      5\u001b[0m driver\u001b[38;5;241m.\u001b[39mget(indeed)\n\u001b[1;32m----> 6\u001b[0m \u001b[43mdriver\u001b[49m\u001b[38;5;241;43m.\u001b[39;49m\u001b[43mfind_element\u001b[49m\u001b[43m(\u001b[49m\u001b[43mBy\u001b[49m\u001b[38;5;241;43m.\u001b[39;49m\u001b[43mCLASS_NAME\u001b[49m\u001b[43m,\u001b[49m\u001b[43m \u001b[49m\u001b[38;5;124;43m'\u001b[39;49m\u001b[38;5;124;43mjs-match-insights-provider-tvvxwd ecydgvn1\u001b[39;49m\u001b[38;5;124;43m'\u001b[39;49m\u001b[43m)\u001b[49m\u001b[38;5;241m.\u001b[39mtext\n",
      "File \u001b[1;32me:\\proyectos django-flask\\PROYECTO_Selenium\\demo-django\\.venv\\Lib\\site-packages\\selenium\\webdriver\\remote\\webdriver.py:748\u001b[0m, in \u001b[0;36mWebDriver.find_element\u001b[1;34m(self, by, value)\u001b[0m\n\u001b[0;32m    745\u001b[0m     by \u001b[38;5;241m=\u001b[39m By\u001b[38;5;241m.\u001b[39mCSS_SELECTOR\n\u001b[0;32m    746\u001b[0m     value \u001b[38;5;241m=\u001b[39m \u001b[38;5;124mf\u001b[39m\u001b[38;5;124m'\u001b[39m\u001b[38;5;124m[name=\u001b[39m\u001b[38;5;124m\"\u001b[39m\u001b[38;5;132;01m{\u001b[39;00mvalue\u001b[38;5;132;01m}\u001b[39;00m\u001b[38;5;124m\"\u001b[39m\u001b[38;5;124m]\u001b[39m\u001b[38;5;124m'\u001b[39m\n\u001b[1;32m--> 748\u001b[0m \u001b[38;5;28;01mreturn\u001b[39;00m \u001b[38;5;28;43mself\u001b[39;49m\u001b[38;5;241;43m.\u001b[39;49m\u001b[43mexecute\u001b[49m\u001b[43m(\u001b[49m\u001b[43mCommand\u001b[49m\u001b[38;5;241;43m.\u001b[39;49m\u001b[43mFIND_ELEMENT\u001b[49m\u001b[43m,\u001b[49m\u001b[43m \u001b[49m\u001b[43m{\u001b[49m\u001b[38;5;124;43m\"\u001b[39;49m\u001b[38;5;124;43musing\u001b[39;49m\u001b[38;5;124;43m\"\u001b[39;49m\u001b[43m:\u001b[49m\u001b[43m \u001b[49m\u001b[43mby\u001b[49m\u001b[43m,\u001b[49m\u001b[43m \u001b[49m\u001b[38;5;124;43m\"\u001b[39;49m\u001b[38;5;124;43mvalue\u001b[39;49m\u001b[38;5;124;43m\"\u001b[39;49m\u001b[43m:\u001b[49m\u001b[43m \u001b[49m\u001b[43mvalue\u001b[49m\u001b[43m}\u001b[49m\u001b[43m)\u001b[49m[\u001b[38;5;124m\"\u001b[39m\u001b[38;5;124mvalue\u001b[39m\u001b[38;5;124m\"\u001b[39m]\n",
      "File \u001b[1;32me:\\proyectos django-flask\\PROYECTO_Selenium\\demo-django\\.venv\\Lib\\site-packages\\selenium\\webdriver\\remote\\webdriver.py:354\u001b[0m, in \u001b[0;36mWebDriver.execute\u001b[1;34m(self, driver_command, params)\u001b[0m\n\u001b[0;32m    352\u001b[0m response \u001b[38;5;241m=\u001b[39m \u001b[38;5;28mself\u001b[39m\u001b[38;5;241m.\u001b[39mcommand_executor\u001b[38;5;241m.\u001b[39mexecute(driver_command, params)\n\u001b[0;32m    353\u001b[0m \u001b[38;5;28;01mif\u001b[39;00m response:\n\u001b[1;32m--> 354\u001b[0m     \u001b[38;5;28;43mself\u001b[39;49m\u001b[38;5;241;43m.\u001b[39;49m\u001b[43merror_handler\u001b[49m\u001b[38;5;241;43m.\u001b[39;49m\u001b[43mcheck_response\u001b[49m\u001b[43m(\u001b[49m\u001b[43mresponse\u001b[49m\u001b[43m)\u001b[49m\n\u001b[0;32m    355\u001b[0m     response[\u001b[38;5;124m\"\u001b[39m\u001b[38;5;124mvalue\u001b[39m\u001b[38;5;124m\"\u001b[39m] \u001b[38;5;241m=\u001b[39m \u001b[38;5;28mself\u001b[39m\u001b[38;5;241m.\u001b[39m_unwrap_value(response\u001b[38;5;241m.\u001b[39mget(\u001b[38;5;124m\"\u001b[39m\u001b[38;5;124mvalue\u001b[39m\u001b[38;5;124m\"\u001b[39m, \u001b[38;5;28;01mNone\u001b[39;00m))\n\u001b[0;32m    356\u001b[0m     \u001b[38;5;28;01mreturn\u001b[39;00m response\n",
      "File \u001b[1;32me:\\proyectos django-flask\\PROYECTO_Selenium\\demo-django\\.venv\\Lib\\site-packages\\selenium\\webdriver\\remote\\errorhandler.py:229\u001b[0m, in \u001b[0;36mErrorHandler.check_response\u001b[1;34m(self, response)\u001b[0m\n\u001b[0;32m    227\u001b[0m         alert_text \u001b[38;5;241m=\u001b[39m value[\u001b[38;5;124m\"\u001b[39m\u001b[38;5;124malert\u001b[39m\u001b[38;5;124m\"\u001b[39m]\u001b[38;5;241m.\u001b[39mget(\u001b[38;5;124m\"\u001b[39m\u001b[38;5;124mtext\u001b[39m\u001b[38;5;124m\"\u001b[39m)\n\u001b[0;32m    228\u001b[0m     \u001b[38;5;28;01mraise\u001b[39;00m exception_class(message, screen, stacktrace, alert_text)  \u001b[38;5;66;03m# type: ignore[call-arg]  # mypy is not smart enough here\u001b[39;00m\n\u001b[1;32m--> 229\u001b[0m \u001b[38;5;28;01mraise\u001b[39;00m exception_class(message, screen, stacktrace)\n",
      "\u001b[1;31mNoSuchElementException\u001b[0m: Message: no such element: Unable to locate element: {\"method\":\"css selector\",\"selector\":\".js-match-insights-provider-tvvxwd ecydgvn1\"}\n  (Session info: chrome=128.0.6613.84); For documentation on this error, please visit: https://www.selenium.dev/documentation/webdriver/troubleshooting/errors#no-such-element-exception\nStacktrace:\n\tGetHandleVerifier [0x00007FF72E199632+30946]\n\t(No symbol) [0x00007FF72E14E3C9]\n\t(No symbol) [0x00007FF72E046FDA]\n\t(No symbol) [0x00007FF72E09822C]\n\t(No symbol) [0x00007FF72E09850C]\n\t(No symbol) [0x00007FF72E0DDCB7]\n\t(No symbol) [0x00007FF72E0BCAAF]\n\t(No symbol) [0x00007FF72E0DB041]\n\t(No symbol) [0x00007FF72E0BC813]\n\t(No symbol) [0x00007FF72E08A6E5]\n\t(No symbol) [0x00007FF72E08B021]\n\tGetHandleVerifier [0x00007FF72E2CF83D+1301229]\n\tGetHandleVerifier [0x00007FF72E2DBDB7+1351783]\n\tGetHandleVerifier [0x00007FF72E2D2A03+1313971]\n\tGetHandleVerifier [0x00007FF72E1CDD06+245686]\n\t(No symbol) [0x00007FF72E15758F]\n\t(No symbol) [0x00007FF72E153804]\n\t(No symbol) [0x00007FF72E153992]\n\t(No symbol) [0x00007FF72E14A3EF]\n\tBaseThreadInitThunk [0x00007FFECD4F7344+20]\n\tRtlUserThreadStart [0x00007FFECE5426B1+33]\n"
     ]
    }
   ],
   "source": [
    "# Para indeed\n",
    "\n",
    "text_input = \"desarrollador python\"\n",
    "\n",
    "driver.get(indeed)\n",
    "driver.find_element(By.CLASS_NAME, 'js-match-insights-provider-tvvxwd ecydgvn1').text"
   ]
  },
  {
   "cell_type": "code",
   "execution_count": 34,
   "metadata": {},
   "outputs": [
    {
     "name": "stdout",
     "output_type": "stream",
     "text": [
      "['S/.2,500 al mes']\n",
      "['Temporal']\n"
     ]
    }
   ],
   "source": [
    "import pandas as pd\n",
    "\n",
    "# Para indeed\n",
    "\n",
    "text_input = \"desarrollador python\"\n",
    "\n",
    "driver.get(indeed)\n",
    "\n",
    "# Buscamos el input de busqueda\n",
    "search_input = driver.find_element(By.XPATH, '//*[@id=\"text-input-what\"]')\n",
    "\n",
    "# sEscribe la busqueda\n",
    "search_input.send_keys(text_input)\n",
    "\n",
    "# Damos enter\n",
    "search_input.send_keys(Keys.ENTER)\n",
    "\n",
    "# Esperamos a que cargue la pagina\n",
    "time.sleep(2)\n",
    "\n",
    "# Obtenemos los resultados\n",
    "postulaciones = driver.find_elements(By.CLASS_NAME, 'css-5lfssm eu4oa1w0')\n",
    "\n",
    "\n",
    "sueldos = []\n",
    "tipo_empleos = []\n",
    "ubicaciones = []\n",
    "descripciones = []\n",
    "\n",
    "for i in range(1, 20):\n",
    "    try:\n",
    "        postulacion = driver.find_element(By.XPATH, f'/html/body/main/div/div[2]/div/div[5]/div/div[1]/div[5]/div/ul/li[{i}]/div')\n",
    "        # Damos click en el enlace\n",
    "        postulacion.click()\n",
    "        # Esperamos a que cargue la pagina\n",
    "        time.sleep(2)\n",
    "        # Obtenemos el contenido de\n",
    "        # Obtenemos el titulo\n",
    "        try:\n",
    "            titulo = driver.find_element(By.XPATH, '//*[@id=\"jobsearch-ViewjobPaneWrapper\"]/div/div[2]/div[2]/div[1]/div/div[1]/div[1]/h2/span').text\n",
    "        except:\n",
    "            titulo = \"No especificado\"\n",
    "            \n",
    "        try : \n",
    "            X_path = '//*[@id=\"jobDetailsSection\"]/div/div[1]/div[2]/div[1]/div/div/ul/li/div/div/div[1]'\n",
    "            sueldo = driver.find_element(By.XPATH, X_path).text\n",
    "            sueldos.append(sueldo)\n",
    "        except:\n",
    "            sueldo = \"No especificado\"\n",
    "            sueldos.append(sueldo)\n",
    "\n",
    "        try:\n",
    "            tipo_empleo = driver.find_element(By.XPATH, '//*[@id=\"jobDetailsSection\"]/div/div[1]/div[2]/div[2]/div/div/ul/li/div/div/div[1]').text\n",
    "            tipo_empleos.append(tipo_empleo)\n",
    "        except:\n",
    "            tipo_empleo = \"No especificado\"\n",
    "            tipo_empleos.append(tipo_empleo)\n",
    "\n",
    "        # Obtenemos la ubicacion\n",
    "        try:\n",
    "            ubicacion = driver.find_element(By.XPATH, '//*[@id=\"jobLocationText\"]/div/span').text\n",
    "            ubicaciones.append(ubicacion)\n",
    "        except:\n",
    "            ubicacion = \"No especificado\"\n",
    "            ubicaciones.append(ubicacion)\n",
    "\n",
    "        # Obtenemos la descripcion\n",
    "        try:\n",
    "            descripcion = driver.find_element(By.XPATH, '//*[@id=\"jobDescriptionText\"]').text\n",
    "            descripciones.append(descripcion)\n",
    "        except:\n",
    "            descripcion = \"No especificado\"\n",
    "            descripciones.append(descripcion)\n",
    "\n",
    "    except:\n",
    "        continue\n",
    "\n",
    "\n",
    "dataset = pd.DataFrame(\n",
    "    {\n",
    "        'Sueldo': sueldos,\n",
    "        'Tipo de empleo': tipo_empleos,\n",
    "        'Ubicacion': ubicaciones,\n",
    "        'Descripcion': descripciones\n",
    "    }\n",
    ")\n",
    "\n"
   ]
  },
  {
   "cell_type": "code",
   "execution_count": null,
   "metadata": {},
   "outputs": [],
   "source": []
  }
 ],
 "metadata": {
  "kernelspec": {
   "display_name": ".venv",
   "language": "python",
   "name": "python3"
  },
  "language_info": {
   "codemirror_mode": {
    "name": "ipython",
    "version": 3
   },
   "file_extension": ".py",
   "mimetype": "text/x-python",
   "name": "python",
   "nbconvert_exporter": "python",
   "pygments_lexer": "ipython3",
   "version": "3.12.4"
  }
 },
 "nbformat": 4,
 "nbformat_minor": 2
}
